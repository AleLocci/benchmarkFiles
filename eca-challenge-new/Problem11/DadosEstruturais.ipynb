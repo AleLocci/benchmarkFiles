{
 "cells": [
  {
   "cell_type": "code",
   "execution_count": 48,
   "id": "274a2c81",
   "metadata": {},
   "outputs": [],
   "source": [
    "library(dplyr)"
   ]
  },
  {
   "cell_type": "code",
   "execution_count": 49,
   "id": "ee8411ad",
   "metadata": {},
   "outputs": [
    {
     "data": {
      "text/html": [
       "<table class=\"dataframe\">\n",
       "<caption>A data.frame: 6 × 1</caption>\n",
       "<thead>\n",
       "\t<tr><th></th><th scope=col>X.condicoesPorDecisao</th></tr>\n",
       "\t<tr><th></th><th scope=col>&lt;int&gt;</th></tr>\n",
       "</thead>\n",
       "<tbody>\n",
       "\t<tr><th scope=row>1</th><td>1</td></tr>\n",
       "\t<tr><th scope=row>2</th><td>1</td></tr>\n",
       "\t<tr><th scope=row>3</th><td>1</td></tr>\n",
       "\t<tr><th scope=row>4</th><td>1</td></tr>\n",
       "\t<tr><th scope=row>5</th><td>1</td></tr>\n",
       "\t<tr><th scope=row>6</th><td>2</td></tr>\n",
       "</tbody>\n",
       "</table>\n"
      ],
      "text/latex": [
       "A data.frame: 6 × 1\n",
       "\\begin{tabular}{r|l}\n",
       "  & X.condicoesPorDecisao\\\\\n",
       "  & <int>\\\\\n",
       "\\hline\n",
       "\t1 & 1\\\\\n",
       "\t2 & 1\\\\\n",
       "\t3 & 1\\\\\n",
       "\t4 & 1\\\\\n",
       "\t5 & 1\\\\\n",
       "\t6 & 2\\\\\n",
       "\\end{tabular}\n"
      ],
      "text/markdown": [
       "\n",
       "A data.frame: 6 × 1\n",
       "\n",
       "| <!--/--> | X.condicoesPorDecisao &lt;int&gt; |\n",
       "|---|---|\n",
       "| 1 | 1 |\n",
       "| 2 | 1 |\n",
       "| 3 | 1 |\n",
       "| 4 | 1 |\n",
       "| 5 | 1 |\n",
       "| 6 | 2 |\n",
       "\n"
      ],
      "text/plain": [
       "  X.condicoesPorDecisao\n",
       "1 1                    \n",
       "2 1                    \n",
       "3 1                    \n",
       "4 1                    \n",
       "5 1                    \n",
       "6 2                    "
      ]
     },
     "metadata": {},
     "output_type": "display_data"
    }
   ],
   "source": [
    "condIf <- read.csv(file = 'condIf.csv')\n",
    "head(condIf)\n"
   ]
  },
  {
   "cell_type": "code",
   "execution_count": 50,
   "id": "7c53d84f",
   "metadata": {},
   "outputs": [
    {
     "data": {
      "text/html": [
       "<table class=\"dataframe\">\n",
       "<caption>A data.frame: 6 × 1</caption>\n",
       "<thead>\n",
       "\t<tr><th></th><th scope=col>X.condicoesPorDecisao</th></tr>\n",
       "\t<tr><th></th><th scope=col>&lt;int&gt;</th></tr>\n",
       "</thead>\n",
       "<tbody>\n",
       "\t<tr><th scope=row>1</th><td>1</td></tr>\n",
       "\t<tr><th scope=row>2</th><td>1</td></tr>\n",
       "\t<tr><th scope=row>3</th><td>1</td></tr>\n",
       "\t<tr><th scope=row>4</th><td>1</td></tr>\n",
       "\t<tr><th scope=row>5</th><td>1</td></tr>\n",
       "\t<tr><th scope=row>6</th><td>1</td></tr>\n",
       "</tbody>\n",
       "</table>\n"
      ],
      "text/latex": [
       "A data.frame: 6 × 1\n",
       "\\begin{tabular}{r|l}\n",
       "  & X.condicoesPorDecisao\\\\\n",
       "  & <int>\\\\\n",
       "\\hline\n",
       "\t1 & 1\\\\\n",
       "\t2 & 1\\\\\n",
       "\t3 & 1\\\\\n",
       "\t4 & 1\\\\\n",
       "\t5 & 1\\\\\n",
       "\t6 & 1\\\\\n",
       "\\end{tabular}\n"
      ],
      "text/markdown": [
       "\n",
       "A data.frame: 6 × 1\n",
       "\n",
       "| <!--/--> | X.condicoesPorDecisao &lt;int&gt; |\n",
       "|---|---|\n",
       "| 1 | 1 |\n",
       "| 2 | 1 |\n",
       "| 3 | 1 |\n",
       "| 4 | 1 |\n",
       "| 5 | 1 |\n",
       "| 6 | 1 |\n",
       "\n"
      ],
      "text/plain": [
       "  X.condicoesPorDecisao\n",
       "1 1                    \n",
       "2 1                    \n",
       "3 1                    \n",
       "4 1                    \n",
       "5 1                    \n",
       "6 1                    "
      ]
     },
     "metadata": {},
     "output_type": "display_data"
    }
   ],
   "source": [
    "condIfJava <- read.csv(file = 'condIfJava.csv')\n",
    "head(condIfJava)"
   ]
  },
  {
   "cell_type": "code",
   "execution_count": 51,
   "id": "f0aa9390",
   "metadata": {},
   "outputs": [
    {
     "data": {
      "text/html": [
       "<table class=\"dataframe\">\n",
       "<caption>A data.frame: 6 × 1</caption>\n",
       "<thead>\n",
       "\t<tr><th></th><th scope=col>X.condicoesPorDecisao</th></tr>\n",
       "\t<tr><th></th><th scope=col>&lt;int&gt;</th></tr>\n",
       "</thead>\n",
       "<tbody>\n",
       "\t<tr><th scope=row>1</th><td>1</td></tr>\n",
       "\t<tr><th scope=row>2</th><td>1</td></tr>\n",
       "\t<tr><th scope=row>3</th><td>1</td></tr>\n",
       "\t<tr><th scope=row>4</th><td>1</td></tr>\n",
       "\t<tr><th scope=row>5</th><td>1</td></tr>\n",
       "\t<tr><th scope=row>6</th><td>2</td></tr>\n",
       "</tbody>\n",
       "</table>\n"
      ],
      "text/latex": [
       "A data.frame: 6 × 1\n",
       "\\begin{tabular}{r|l}\n",
       "  & X.condicoesPorDecisao\\\\\n",
       "  & <int>\\\\\n",
       "\\hline\n",
       "\t1 & 1\\\\\n",
       "\t2 & 1\\\\\n",
       "\t3 & 1\\\\\n",
       "\t4 & 1\\\\\n",
       "\t5 & 1\\\\\n",
       "\t6 & 2\\\\\n",
       "\\end{tabular}\n"
      ],
      "text/markdown": [
       "\n",
       "A data.frame: 6 × 1\n",
       "\n",
       "| <!--/--> | X.condicoesPorDecisao &lt;int&gt; |\n",
       "|---|---|\n",
       "| 1 | 1 |\n",
       "| 2 | 1 |\n",
       "| 3 | 1 |\n",
       "| 4 | 1 |\n",
       "| 5 | 1 |\n",
       "| 6 | 2 |\n",
       "\n"
      ],
      "text/plain": [
       "  X.condicoesPorDecisao\n",
       "1 1                    \n",
       "2 1                    \n",
       "3 1                    \n",
       "4 1                    \n",
       "5 1                    \n",
       "6 2                    "
      ]
     },
     "metadata": {},
     "output_type": "display_data"
    }
   ],
   "source": [
    "condIfCpp <- read.csv(file = 'condIfCpp.csv')\n",
    "head(condIfCpp)"
   ]
  },
  {
   "cell_type": "code",
   "execution_count": 52,
   "id": "7c6ebc63",
   "metadata": {},
   "outputs": [],
   "source": [
    "df_if = data.frame(condIf)\n",
    "df_ifJava = data.frame(condIfJava)\n",
    "df_ifCpp = data.frame(condIfCpp)"
   ]
  },
  {
   "cell_type": "code",
   "execution_count": 53,
   "id": "82e1a2ca",
   "metadata": {},
   "outputs": [
    {
     "name": "stdout",
     "output_type": "stream",
     "text": [
      "Rows: 2,154\n",
      "Columns: 1\n",
      "$ X.condicoesPorDecisao \u001b[3m\u001b[90m<int>\u001b[39m\u001b[23m 1, 1, 1, 1, 1, 2, 1, 1, 1, 1, 1, 2, 1, 1, 1, 2, …\n",
      "Rows: 212\n",
      "Columns: 1\n",
      "$ X.condicoesPorDecisao \u001b[3m\u001b[90m<int>\u001b[39m\u001b[23m 1, 1, 1, 1, 1, 1, 1, 1, 1, 1, 1, 1, 1, 1, 1, 1, …\n",
      "Rows: 1,942\n",
      "Columns: 1\n",
      "$ X.condicoesPorDecisao \u001b[3m\u001b[90m<int>\u001b[39m\u001b[23m 1, 1, 1, 1, 1, 2, 1, 1, 1, 1, 1, 2, 1, 1, 1, 2, …\n"
     ]
    }
   ],
   "source": [
    "glimpse(df_if)\n",
    "glimpse(df_ifJava)\n",
    "glimpse(df_ifCpp)"
   ]
  },
  {
   "cell_type": "code",
   "execution_count": 54,
   "id": "ecd32df2",
   "metadata": {},
   "outputs": [
    {
     "data": {
      "text/plain": [
       " X.condicoesPorDecisao\n",
       " Min.   :1.000        \n",
       " 1st Qu.:1.000        \n",
       " Median :1.000        \n",
       " Mean   :1.089        \n",
       " 3rd Qu.:1.000        \n",
       " Max.   :6.000        "
      ]
     },
     "metadata": {},
     "output_type": "display_data"
    }
   ],
   "source": [
    "summary(df_if)"
   ]
  },
  {
   "cell_type": "code",
   "execution_count": 55,
   "id": "ef324953",
   "metadata": {},
   "outputs": [
    {
     "data": {
      "text/plain": [
       " X.condicoesPorDecisao\n",
       " Min.   :1.000        \n",
       " 1st Qu.:1.000        \n",
       " Median :1.000        \n",
       " Mean   :1.142        \n",
       " 3rd Qu.:1.000        \n",
       " Max.   :4.000        "
      ]
     },
     "metadata": {},
     "output_type": "display_data"
    }
   ],
   "source": [
    "summary(df_ifJava)"
   ]
  },
  {
   "cell_type": "code",
   "execution_count": 56,
   "id": "9ae5b87c",
   "metadata": {},
   "outputs": [
    {
     "data": {
      "text/plain": [
       " X.condicoesPorDecisao\n",
       " Min.   :1.000        \n",
       " 1st Qu.:1.000        \n",
       " Median :1.000        \n",
       " Mean   :1.083        \n",
       " 3rd Qu.:1.000        \n",
       " Max.   :6.000        "
      ]
     },
     "metadata": {},
     "output_type": "display_data"
    }
   ],
   "source": [
    "summary(df_ifCpp)"
   ]
  },
  {
   "cell_type": "code",
   "execution_count": 57,
   "id": "40e6a433",
   "metadata": {},
   "outputs": [
    {
     "data": {
      "image/png": "[encoded data removed]",
      "text/plain": [
       "Plot with title “Histogram of df_if$X.condicoesPorDecisao”"
      ]
     },
     "metadata": {
      "image/png": {
       "height": 420,
       "width": 420
      }
     },
     "output_type": "display_data"
    }
   ],
   "source": [
    "hist(df_if$X.condicoesPorDecisao)"
   ]
  },
  {
   "cell_type": "code",
   "execution_count": 58,
   "id": "20974ab0",
   "metadata": {},
   "outputs": [
    {
     "data": {
      "image/png": "[encoded data removed]",
      "text/plain": [
       "Plot with title “Histogram of df_ifJava$X.condicoesPorDecisao”"
      ]
     },
     "metadata": {
      "image/png": {
       "height": 420,
       "width": 420
      }
     },
     "output_type": "display_data"
    }
   ],
   "source": [
    "hist(df_ifJava$X.condicoesPorDecisao)"
   ]
  },
  {
   "cell_type": "code",
   "execution_count": 59,
   "id": "1440c958",
   "metadata": {},
   "outputs": [
    {
     "data": {
      "image/png": "[encoded data removed]",
      "text/plain": [
       "Plot with title “Histogram of df_ifCpp$X.condicoesPorDecisao”"
      ]
     },
     "metadata": {
      "image/png": {
       "height": 420,
       "width": 420
      }
     },
     "output_type": "display_data"
    }
   ],
   "source": [
    "hist(df_ifCpp$X.condicoesPorDecisao)"
   ]
  },
  {
   "cell_type": "code",
   "execution_count": null,
   "id": "1335b190",
   "metadata": {},
   "outputs": [],
   "source": []
  },
  {
   "cell_type": "code",
   "execution_count": null,
   "id": "060b2e15",
   "metadata": {},
   "outputs": [],
   "source": []
  }
 ],
 "metadata": {
  "kernelspec": {
   "display_name": "R",
   "language": "R",
   "name": "ir"
  },
  "language_info": {
   "codemirror_mode": "r",
   "file_extension": ".r",
   "mimetype": "text/x-r-source",
   "name": "R",
   "pygments_lexer": "r",
   "version": "3.6.3"
  }
 },
 "nbformat": 4,
 "nbformat_minor": 5
}
